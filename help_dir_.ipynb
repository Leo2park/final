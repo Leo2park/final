{
  "nbformat": 4,
  "nbformat_minor": 0,
  "metadata": {
    "colab": {
      "provenance": [],
      "include_colab_link": true
    },
    "kernelspec": {
      "name": "python3",
      "display_name": "Python 3"
    },
    "language_info": {
      "name": "python"
    }
  },
  "cells": [
    {
      "cell_type": "markdown",
      "metadata": {
        "id": "view-in-github",
        "colab_type": "text"
      },
      "source": [
        "<a href=\"https://colab.research.google.com/github/Leo2park/final/blob/main/help_dir_.ipynb\" target=\"_parent\"><img src=\"https://colab.research.google.com/assets/colab-badge.svg\" alt=\"Open In Colab\"/></a>"
      ]
    },
    {
      "cell_type": "code",
      "source": [
        "import pandas as pd\n",
        "from scipy.stats import shapiro\n",
        "import scipy\n",
        "\n",
        "if False:\n",
        "    print(type(shapiro))  # function\n",
        "    help(shapiro)  # function의 사용법을 알고자할 때\n",
        "\n",
        "if False:\n",
        "    help(scipy.stats.shapiro)\n",
        "\n",
        "if False:\n",
        "    print(type(pd))  # module\n",
        "    print(type(pd.get_dummies))  # function\n",
        "    help(pd.get_dummies)  # function의 사용법을 알고자할 때"
      ],
      "metadata": {
        "id": "i3_vLoGZ_KKV"
      },
      "execution_count": null,
      "outputs": []
    },
    {
      "cell_type": "code",
      "source": [
        "# ndarray, Series, DataFrame\n",
        "import scipy.stats\n",
        "import pandas as pd\n",
        "s = pd.Series(dir(scipy.stats))  # scipy.stats 에 포함된 함수 목록 확인(list -> ndarray, Series, DataFrame)\n",
        "print(s[s.str.contains('ttest')])"
      ],
      "metadata": {
        "colab": {
          "base_uri": "https://localhost:8080/"
        },
        "id": "R36vVyZeB20I",
        "outputId": "f4d22b0b-9dd2-485f-ace3-7fd84143fc32"
      },
      "execution_count": null,
      "outputs": [
        {
          "output_type": "stream",
          "name": "stdout",
          "text": [
            "304             ttest_1samp\n",
            "305               ttest_ind\n",
            "306    ttest_ind_from_stats\n",
            "307               ttest_rel\n",
            "dtype: object\n"
          ]
        }
      ]
    },
    {
      "cell_type": "code",
      "source": [
        "# sklearn\n",
        "import sklearn\n",
        "\n",
        "# sklearn의 패키지\n",
        "print(sklearn.__all__)\n",
        "# tree - DecisionTreeClassifier / DecisionTreeRegressor - model.get_depth() 30\n",
        "# ensemble - RandomForestRegressor / GradientBoostingRegressor\n",
        "# linear_model - LinearRegression, LogisticRegression\n",
        "# neighbors - KNeighborsClassifier\n",
        "# metrics\n",
        "# model_selection - train_test_split\n",
        "# preprocessing - MinMaxScaler, StandardScaler, LabelEncoder"
      ],
      "metadata": {
        "id": "w5zaLGSOEaez"
      },
      "execution_count": null,
      "outputs": []
    },
    {
      "cell_type": "code",
      "source": [
        "# 패키지 내부의 객체 확인\n",
        "import sklearn.ensemble\n",
        "import pandas as pd\n",
        "s = pd.Series(dir(sklearn.ensemble))\n",
        "print(s[s.str.contains('Classifier')])"
      ],
      "metadata": {
        "colab": {
          "base_uri": "https://localhost:8080/"
        },
        "id": "z7tgRRyPHHMX",
        "outputId": "dcc941d4-2bd9-4595-83f3-c53574736d1a"
      },
      "execution_count": null,
      "outputs": [
        {
          "output_type": "stream",
          "name": "stdout",
          "text": [
            "0                 AdaBoostClassifier\n",
            "2                  BaggingClassifier\n",
            "5               ExtraTreesClassifier\n",
            "7         GradientBoostingClassifier\n",
            "9     HistGradientBoostingClassifier\n",
            "12            RandomForestClassifier\n",
            "15                StackingClassifier\n",
            "17                  VotingClassifier\n",
            "dtype: object\n"
          ]
        }
      ]
    },
    {
      "cell_type": "code",
      "source": [
        "from sklearn.ensemble import RandomForestClassifier\n",
        "#help(RandomForestClassifier)\n",
        "s = pd.Series(dir(RandomForestClassifier))\n",
        "s = s[s.str[0] != '_']\n",
        "print(s)"
      ],
      "metadata": {
        "colab": {
          "base_uri": "https://localhost:8080/"
        },
        "id": "yqxJxyngIHr1",
        "outputId": "2ab06d04-f3f3-4b2b-949f-aa32c11e0233"
      },
      "execution_count": null,
      "outputs": [
        {
          "output_type": "stream",
          "name": "stdout",
          "text": [
            "54                   apply\n",
            "55         base_estimator_\n",
            "56           decision_path\n",
            "57    feature_importances_\n",
            "58                     fit\n",
            "59              get_params\n",
            "60                 predict\n",
            "61       predict_log_proba\n",
            "62           predict_proba\n",
            "63                   score\n",
            "64              set_params\n",
            "dtype: object\n"
          ]
        }
      ]
    },
    {
      "cell_type": "code",
      "source": [
        "import pandas as pd\n",
        "\n",
        "help(pd.Series.value_counts) # pd의 객체의 메서드(함수) 사용법 확인"
      ],
      "metadata": {
        "id": "dqdU2yvmJM8a"
      },
      "execution_count": null,
      "outputs": []
    },
    {
      "cell_type": "code",
      "execution_count": null,
      "metadata": {
        "id": "A0A0GoD8-6gV"
      },
      "outputs": [],
      "source": [
        "import pandas as pd\n",
        "import sklearn\n",
        "import sklearn.linear_model\n",
        "from sklearn.linear_model import LogisticRegression\n",
        "print(sklearn.__all__)\n",
        "#print(help(sklearn))   # sklearn의 패키지 철자가 생각 나지 않을 때\n",
        "#print(dir(sklearn.linear_model))  # 패키지 내부의 객체가 생각 나지 않을 때\n",
        "#print(help(LogisticRegression))   # 객체 사용법이 생각 나지 않을 때 - 하단의 example\n",
        "\n",
        "# pandas의 Series 객체의 메서드 사용법이 생각 나지 않을 때\n",
        "#print(help(pd.Series.replace))\n",
        "\n",
        "#print(type(pd.DataFrame.shape))  # property 라고 표시되면 값! -> help 없음\n",
        "#print(type(pd.Series.replace))   # function 이라고 표시되면 함수! -> help 있음"
      ]
    }
  ]
}