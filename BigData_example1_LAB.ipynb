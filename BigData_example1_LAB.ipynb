{
  "nbformat": 4,
  "nbformat_minor": 0,
  "metadata": {
    "colab": {
      "provenance": [],
      "collapsed_sections": [
        "fepF01fW_Mki",
        "uMhxcUyi_UJQ",
        "KMHZMoow_ekq",
        "UZgAmIsP_0SU",
        "PiwGuNDb_3iv",
        "9D8QN5a5AJgn",
        "KfMgiog6AVPO"
      ],
      "toc_visible": true,
      "include_colab_link": true
    },
    "kernelspec": {
      "name": "python3",
      "display_name": "Python 3"
    },
    "language_info": {
      "name": "python"
    }
  },
  "cells": [
    {
      "cell_type": "markdown",
      "metadata": {
        "id": "view-in-github",
        "colab_type": "text"
      },
      "source": [
        "<a href=\"https://colab.research.google.com/github/Leo2park/final/blob/main/BigData_example1_LAB.ipynb\" target=\"_parent\"><img src=\"https://colab.research.google.com/assets/colab-badge.svg\" alt=\"Open In Colab\"/></a>"
      ]
    },
    {
      "cell_type": "markdown",
      "source": [
        "## 1.기출문제 (빅분기 실기 2회)"
      ],
      "metadata": {
        "id": "UdPHfkFPGTDb"
      }
    },
    {
      "cell_type": "markdown",
      "metadata": {
        "id": "vA-FmFtl_GSO"
      },
      "source": [
        "#### 1-1. \n",
        "데이터 전처리 단계에서 발견하는 값으로 관측된 데이터 범위에서 많이 벗어나 있는 아주 작거나 아주 큰 값으로 정상 범위를 벗어난 값을 의미하는 것은 무엇인가?"
      ]
    },
    {
      "cell_type": "code",
      "metadata": {
        "id": "dWlF2WPw-rb5"
      },
      "source": [],
      "execution_count": null,
      "outputs": []
    },
    {
      "cell_type": "markdown",
      "metadata": {
        "id": "fepF01fW_Mki"
      },
      "source": [
        "#### 1-2. \n",
        "정답지, label이 없다, 대표적분석에 군집분석, 연관분석 등이 있다. 해당 기법을 뭐라하는가?"
      ]
    },
    {
      "cell_type": "code",
      "metadata": {
        "id": "qct50H6e_R11"
      },
      "source": [],
      "execution_count": null,
      "outputs": []
    },
    {
      "cell_type": "markdown",
      "metadata": {
        "id": "uMhxcUyi_UJQ"
      },
      "source": [
        "#### 1-3.\n",
        "모델을 생성시 사용자가 직접 변경/설정해 주어야하는 것은 무엇인가?"
      ]
    },
    {
      "cell_type": "code",
      "metadata": {
        "id": "WkwIMAg7_Tws"
      },
      "source": [],
      "execution_count": null,
      "outputs": []
    },
    {
      "cell_type": "markdown",
      "metadata": {
        "id": "KMHZMoow_ekq"
      },
      "source": [
        "#### 1-4.\n",
        "결측값을 대치 하는 방법 중 평균값을 사용해 대치하는 방법은?"
      ]
    },
    {
      "cell_type": "code",
      "metadata": {
        "id": "RoCqgsMf_m3a"
      },
      "source": [],
      "execution_count": null,
      "outputs": []
    },
    {
      "cell_type": "markdown",
      "metadata": {
        "id": "UZgAmIsP_0SU"
      },
      "source": [
        "#### 1-5.\n",
        "모델의 학습에서는 정확도가 높게 나오지만 테스트 셋에서는 정확도가 낮게 나오는 것을 무엇이라하는가? "
      ]
    },
    {
      "cell_type": "code",
      "metadata": {
        "id": "b9lyDHBP_3_-"
      },
      "source": [],
      "execution_count": null,
      "outputs": []
    },
    {
      "cell_type": "markdown",
      "metadata": {
        "id": "PiwGuNDb_3iv"
      },
      "source": [
        "#### 1-6.\n",
        "변수 선택 방법 중 모든 변수를 활용해 하나씩 제거해 가는 방법은?"
      ]
    },
    {
      "cell_type": "code",
      "metadata": {
        "id": "8Sh4WvGvAF4L"
      },
      "source": [],
      "execution_count": null,
      "outputs": []
    },
    {
      "cell_type": "markdown",
      "metadata": {
        "id": "9D8QN5a5AJgn"
      },
      "source": [
        "#### 1-7. \n",
        "모델 학습시 잘못된 결과에 대해 가중치를 반영해 모델을 생성하는 방법?"
      ]
    },
    {
      "cell_type": "code",
      "metadata": {
        "id": "r3XoayrfARl5"
      },
      "source": [],
      "execution_count": null,
      "outputs": []
    },
    {
      "cell_type": "markdown",
      "metadata": {
        "id": "KfMgiog6AVPO"
      },
      "source": [
        "#### 1-8. \n",
        "TPR , FPR 로 그려서 확인하는 곡선은?"
      ]
    },
    {
      "cell_type": "code",
      "metadata": {
        "id": "bLCAJnq0ATvv"
      },
      "source": [],
      "execution_count": null,
      "outputs": []
    },
    {
      "cell_type": "markdown",
      "metadata": {
        "id": "M3Fgw13HAeC0"
      },
      "source": [
        "#### 1-9.\n",
        "마지막 은닉층 2개의 값이 [0.2, -0.3]이고,  가중치가 [0.3, 0.1]이다. bias -0.05, 출력층 노드가 1개 이고, f(x) = x , if x >= 0, 그외 -1 일때 출력값은 무엇인가?"
      ]
    },
    {
      "cell_type": "code",
      "metadata": {
        "id": "6UL_YB4iAdkQ"
      },
      "source": [],
      "execution_count": null,
      "outputs": []
    },
    {
      "cell_type": "markdown",
      "metadata": {
        "id": "nQkH0fq6jBlK"
      },
      "source": [
        "#### 1-10.\n",
        "앙상블 기법의 한 가지 종류로 회귀, 분류 모델에 사용되며, 약학습기 여러 개를 사용하는 부스팅 알고리즘에 속한다. 가중치 업데이트를 경사하강법을 이용해 최적화된 결과를 얻는 알고리즘이다."
      ]
    },
    {
      "cell_type": "code",
      "metadata": {
        "id": "HHYHMUm_Pjw4"
      },
      "source": [],
      "execution_count": null,
      "outputs": []
    },
    {
      "cell_type": "markdown",
      "source": [
        "## 2.기출문제 (빅분기 실기 2회)"
      ],
      "metadata": {
        "id": "9wr6snMrGMHo"
      }
    },
    {
      "cell_type": "code",
      "source": [
        "!git clone https://github.com/Soyoung-Yoon/bigdata"
      ],
      "metadata": {
        "id": "8RdzIjzsMFEY",
        "colab": {
          "base_uri": "https://localhost:8080/"
        },
        "outputId": "9c34d052-e936-4ef1-c5bc-0e7d39d2519a"
      },
      "execution_count": null,
      "outputs": [
        {
          "output_type": "stream",
          "name": "stdout",
          "text": [
            "Cloning into 'bigdata'...\n",
            "remote: Enumerating objects: 53, done.\u001b[K\n",
            "remote: Counting objects: 100% (3/3), done.\u001b[K\n",
            "remote: Compressing objects: 100% (3/3), done.\u001b[K\n",
            "remote: Total 53 (delta 0), reused 0 (delta 0), pack-reused 50\u001b[K\n",
            "Unpacking objects: 100% (53/53), 14.21 MiB | 3.57 MiB/s, done.\n"
          ]
        }
      ]
    },
    {
      "cell_type": "markdown",
      "metadata": {
        "id": "XmsDHqDFBzM3"
      },
      "source": [
        "#### 2-1. 보스턴 데이터\n",
        "보스턴 데이터 범죄율 컬럼('CRIM')의 top10 중 10번째 범죄율 값으로 1~10위의 범죄율 값을 변경 후, 'AGE' 변수의 값이 80이상인 것에 대한 범죄율 평균을 산출하라."
      ]
    },
    {
      "cell_type": "code",
      "metadata": {
        "colab": {
          "base_uri": "https://localhost:8080/",
          "height": 112
        },
        "id": "s320bd-r95fx",
        "outputId": "d195828a-058e-487a-9bd0-e966a120f69a"
      },
      "source": [
        "## sklearn에서 더이상 boston 데이터를 제공하지 않으므로 교체합니다.\n",
        "##from sklearn.datasets import load_boston\n",
        "import pandas as pd\n",
        "df = pd.read_csv('bigdata/boston.csv')\n",
        "df.head(2)"
      ],
      "execution_count": null,
      "outputs": [
        {
          "output_type": "execute_result",
          "data": {
            "text/plain": [
              "      CRIM    ZN  INDUS  CHAS    NOX     RM   AGE     DIS  RAD    TAX  \\\n",
              "0  0.00632  18.0   2.31   0.0  0.538  6.575  65.2  4.0900  1.0  296.0   \n",
              "1  0.02731   0.0   7.07   0.0  0.469  6.421  78.9  4.9671  2.0  242.0   \n",
              "\n",
              "   PTRATIO      B  LSTAT  PRICE  \n",
              "0     15.3  396.9   4.98   24.0  \n",
              "1     17.8  396.9   9.14   21.6  "
            ],
            "text/html": [
              "\n",
              "  <div id=\"df-8d9608f6-282e-47cd-ba5c-d294c378c501\">\n",
              "    <div class=\"colab-df-container\">\n",
              "      <div>\n",
              "<style scoped>\n",
              "    .dataframe tbody tr th:only-of-type {\n",
              "        vertical-align: middle;\n",
              "    }\n",
              "\n",
              "    .dataframe tbody tr th {\n",
              "        vertical-align: top;\n",
              "    }\n",
              "\n",
              "    .dataframe thead th {\n",
              "        text-align: right;\n",
              "    }\n",
              "</style>\n",
              "<table border=\"1\" class=\"dataframe\">\n",
              "  <thead>\n",
              "    <tr style=\"text-align: right;\">\n",
              "      <th></th>\n",
              "      <th>CRIM</th>\n",
              "      <th>ZN</th>\n",
              "      <th>INDUS</th>\n",
              "      <th>CHAS</th>\n",
              "      <th>NOX</th>\n",
              "      <th>RM</th>\n",
              "      <th>AGE</th>\n",
              "      <th>DIS</th>\n",
              "      <th>RAD</th>\n",
              "      <th>TAX</th>\n",
              "      <th>PTRATIO</th>\n",
              "      <th>B</th>\n",
              "      <th>LSTAT</th>\n",
              "      <th>PRICE</th>\n",
              "    </tr>\n",
              "  </thead>\n",
              "  <tbody>\n",
              "    <tr>\n",
              "      <th>0</th>\n",
              "      <td>0.00632</td>\n",
              "      <td>18.0</td>\n",
              "      <td>2.31</td>\n",
              "      <td>0.0</td>\n",
              "      <td>0.538</td>\n",
              "      <td>6.575</td>\n",
              "      <td>65.2</td>\n",
              "      <td>4.0900</td>\n",
              "      <td>1.0</td>\n",
              "      <td>296.0</td>\n",
              "      <td>15.3</td>\n",
              "      <td>396.9</td>\n",
              "      <td>4.98</td>\n",
              "      <td>24.0</td>\n",
              "    </tr>\n",
              "    <tr>\n",
              "      <th>1</th>\n",
              "      <td>0.02731</td>\n",
              "      <td>0.0</td>\n",
              "      <td>7.07</td>\n",
              "      <td>0.0</td>\n",
              "      <td>0.469</td>\n",
              "      <td>6.421</td>\n",
              "      <td>78.9</td>\n",
              "      <td>4.9671</td>\n",
              "      <td>2.0</td>\n",
              "      <td>242.0</td>\n",
              "      <td>17.8</td>\n",
              "      <td>396.9</td>\n",
              "      <td>9.14</td>\n",
              "      <td>21.6</td>\n",
              "    </tr>\n",
              "  </tbody>\n",
              "</table>\n",
              "</div>\n",
              "      <button class=\"colab-df-convert\" onclick=\"convertToInteractive('df-8d9608f6-282e-47cd-ba5c-d294c378c501')\"\n",
              "              title=\"Convert this dataframe to an interactive table.\"\n",
              "              style=\"display:none;\">\n",
              "        \n",
              "  <svg xmlns=\"http://www.w3.org/2000/svg\" height=\"24px\"viewBox=\"0 0 24 24\"\n",
              "       width=\"24px\">\n",
              "    <path d=\"M0 0h24v24H0V0z\" fill=\"none\"/>\n",
              "    <path d=\"M18.56 5.44l.94 2.06.94-2.06 2.06-.94-2.06-.94-.94-2.06-.94 2.06-2.06.94zm-11 1L8.5 8.5l.94-2.06 2.06-.94-2.06-.94L8.5 2.5l-.94 2.06-2.06.94zm10 10l.94 2.06.94-2.06 2.06-.94-2.06-.94-.94-2.06-.94 2.06-2.06.94z\"/><path d=\"M17.41 7.96l-1.37-1.37c-.4-.4-.92-.59-1.43-.59-.52 0-1.04.2-1.43.59L10.3 9.45l-7.72 7.72c-.78.78-.78 2.05 0 2.83L4 21.41c.39.39.9.59 1.41.59.51 0 1.02-.2 1.41-.59l7.78-7.78 2.81-2.81c.8-.78.8-2.07 0-2.86zM5.41 20L4 18.59l7.72-7.72 1.47 1.35L5.41 20z\"/>\n",
              "  </svg>\n",
              "      </button>\n",
              "      \n",
              "  <style>\n",
              "    .colab-df-container {\n",
              "      display:flex;\n",
              "      flex-wrap:wrap;\n",
              "      gap: 12px;\n",
              "    }\n",
              "\n",
              "    .colab-df-convert {\n",
              "      background-color: #E8F0FE;\n",
              "      border: none;\n",
              "      border-radius: 50%;\n",
              "      cursor: pointer;\n",
              "      display: none;\n",
              "      fill: #1967D2;\n",
              "      height: 32px;\n",
              "      padding: 0 0 0 0;\n",
              "      width: 32px;\n",
              "    }\n",
              "\n",
              "    .colab-df-convert:hover {\n",
              "      background-color: #E2EBFA;\n",
              "      box-shadow: 0px 1px 2px rgba(60, 64, 67, 0.3), 0px 1px 3px 1px rgba(60, 64, 67, 0.15);\n",
              "      fill: #174EA6;\n",
              "    }\n",
              "\n",
              "    [theme=dark] .colab-df-convert {\n",
              "      background-color: #3B4455;\n",
              "      fill: #D2E3FC;\n",
              "    }\n",
              "\n",
              "    [theme=dark] .colab-df-convert:hover {\n",
              "      background-color: #434B5C;\n",
              "      box-shadow: 0px 1px 3px 1px rgba(0, 0, 0, 0.15);\n",
              "      filter: drop-shadow(0px 1px 2px rgba(0, 0, 0, 0.3));\n",
              "      fill: #FFFFFF;\n",
              "    }\n",
              "  </style>\n",
              "\n",
              "      <script>\n",
              "        const buttonEl =\n",
              "          document.querySelector('#df-8d9608f6-282e-47cd-ba5c-d294c378c501 button.colab-df-convert');\n",
              "        buttonEl.style.display =\n",
              "          google.colab.kernel.accessAllowed ? 'block' : 'none';\n",
              "\n",
              "        async function convertToInteractive(key) {\n",
              "          const element = document.querySelector('#df-8d9608f6-282e-47cd-ba5c-d294c378c501');\n",
              "          const dataTable =\n",
              "            await google.colab.kernel.invokeFunction('convertToInteractive',\n",
              "                                                     [key], {});\n",
              "          if (!dataTable) return;\n",
              "\n",
              "          const docLinkHtml = 'Like what you see? Visit the ' +\n",
              "            '<a target=\"_blank\" href=https://colab.research.google.com/notebooks/data_table.ipynb>data table notebook</a>'\n",
              "            + ' to learn more about interactive tables.';\n",
              "          element.innerHTML = '';\n",
              "          dataTable['output_type'] = 'display_data';\n",
              "          await google.colab.output.renderOutput(dataTable, element);\n",
              "          const docLink = document.createElement('div');\n",
              "          docLink.innerHTML = docLinkHtml;\n",
              "          element.appendChild(docLink);\n",
              "        }\n",
              "      </script>\n",
              "    </div>\n",
              "  </div>\n",
              "  "
            ]
          },
          "metadata": {},
          "execution_count": 3
        }
      ]
    },
    {
      "cell_type": "code",
      "metadata": {
        "id": "dt5U-T52-d1f"
      },
      "source": [],
      "execution_count": null,
      "outputs": []
    },
    {
      "cell_type": "markdown",
      "metadata": {
        "id": "Uv_3WUzRCFV0"
      },
      "source": [
        "#### 2-2. 하우징 데이터\n",
        "- housing.csv 파일을 사용한다\n",
        "- 주어진 데이터의 첫번째 행 부터 순서대로 80% 까지의 데이터를 추출 후 'total_bedrooms' 변수의 결측값(NA)을 'total_bedrooms' 변수의 중앙값으로 대체하고,\n",
        "- 대체 전의 'total_bedrooms' 변수 표준편차값과 대체 후의 'total_bedrooms' 변수 표준편차 값을 산출하여\n",
        "- 대체 전 표준편차 값 - 대체 후 표준편차 값을 구해 출력한다."
      ]
    },
    {
      "cell_type": "code",
      "metadata": {
        "id": "7bfmcPy3CQDQ"
      },
      "source": [
        "# https://www.kaggle.com/camnugent/introduction-to-machine-learning-in-r-tutorial"
      ],
      "execution_count": null,
      "outputs": []
    },
    {
      "cell_type": "code",
      "metadata": {
        "id": "FTsXafdeKM39"
      },
      "source": [],
      "execution_count": null,
      "outputs": []
    },
    {
      "cell_type": "markdown",
      "metadata": {
        "id": "s0Iohr2QC6As"
      },
      "source": [
        "#### 2-3. 하우징 데이터 \n",
        "- 'https://raw.githubusercontent.com/Soyoung-Yoon/bigdata/main/housing.csv' 파일을 사용한다\n",
        "- 하우징 데이터에서 'latitude' 컬럼의 이상치를 찾아 이상치들의 합을 산출하시오.\n",
        "- 이상치 기준 : 평균 - (표준편차 * 1.5), 평균 + (표준편차 * 1.5) "
      ]
    },
    {
      "cell_type": "code",
      "metadata": {
        "id": "II4-4rISf1Ys"
      },
      "source": [
        "평균 - (표준편차 * 1.5), 평균 + (표준편차 * 1.5)"
      ],
      "execution_count": null,
      "outputs": []
    },
    {
      "cell_type": "code",
      "metadata": {
        "id": "qDn-ZVCTAA3J"
      },
      "source": [],
      "execution_count": null,
      "outputs": []
    },
    {
      "cell_type": "markdown",
      "metadata": {
        "id": "SxegKonKDHPJ"
      },
      "source": [
        "## 3.기출문제 (빅분기 실기 2회)\n",
        "- 고객 구매 데이터를 사용해서 고객이 주문한 물품이 제 시간에 도착여부(Reached.on.Time_Y.N) 예측\n",
        "- X_train.csv, y_train.csv : 학습 및 학습평가에 사용하는 파일\n",
        "- X_test.csv : 제출용 데이터 생성에 사용하는 파일\n",
        "- roc_score를 사용하여 평가\n",
        "- 아래의 형식으로 submission수험번호.csv 로 저장\n",
        "- Reached.on.Time_Y.N은 제 시간에 도착할 확률\n",
        "        ID,Reached.on.Time_Y.N\n",
        "        7007,0.27419354838709675\n",
        "        9793,0.4883720930232558\n",
        "        6593,0.48174157303370785\n",
        "        10527,0.3657243816254417"
      ]
    },
    {
      "cell_type": "markdown",
      "metadata": {
        "id": "JWKKfomBts23"
      },
      "source": [
        "### 3-01.문제이해"
      ]
    },
    {
      "cell_type": "code",
      "metadata": {
        "id": "7s5cSk-lrLGh"
      },
      "source": [
        "# https://www.kaggle.com/prachi13/customer-analytics?select=Train.csv\n",
        "# 기출에서 기억나는 것\n",
        "# - 컬럼 중 1개가 숫자형으로 안내 되었는데 info() 결과 object로 표시됨\n",
        "# - head() 로 해서 표시되지 않았음 \n",
        "# - value가 '1', '*7', '4', '9', '*7' 이렇게 되어 있어서 '*'을 제거하고 dtype을 변경해야함"
      ],
      "execution_count": null,
      "outputs": []
    },
    {
      "cell_type": "code",
      "metadata": {
        "id": "YvUN8uMwtiQk"
      },
      "source": [
        "import pandas as pd\n",
        "# 이상한 것 확인\n",
        "df = pd.DataFrame({'rating': ['1', '2', '4', '*7', '8', '*7', '3', '5', '2', '*4']})\n"
      ],
      "execution_count": null,
      "outputs": []
    },
    {
      "cell_type": "code",
      "metadata": {
        "id": "SxjNji3PuWf7"
      },
      "source": [
        "# 해결 방법\n"
      ],
      "execution_count": null,
      "outputs": []
    },
    {
      "cell_type": "markdown",
      "metadata": {
        "id": "NCqn_6zOtyXi"
      },
      "source": [
        "### 3-02.데이터 불러오기, 탐색"
      ]
    },
    {
      "cell_type": "markdown",
      "source": [
        "***pandas의 출력 설정 옵션 다시 확인하세요!***"
      ],
      "metadata": {
        "id": "pfVyX6TSu2hl"
      }
    },
    {
      "cell_type": "code",
      "metadata": {
        "id": "ljn7qAfH8uw2"
      },
      "source": [
        "# [0] 사용 라이브러리 import\n",
        "import pandas as pd\n",
        "\n",
        "# 데이타가 많은경우 모두 출력 안되고 ... 으로 생략해서 출력됨.\n",
        "pd.set_option('display.max_rows',500)    #출력할 max row를 지정\n",
        "pd.set_option('display.max_columns',20)  #출력할 max columns를 지정\n",
        "#출력 format 지정 - 소수점아래 4자리까지\n",
        "pd.set_option('display.float_format', '{:.4f}'.format)"
      ],
      "execution_count": null,
      "outputs": []
    },
    {
      "cell_type": "code",
      "source": [
        "# [0] x_train, x_test 데이터로 생성함\n",
        "# 이 부분은 시험에서는 없습니다. 그냥 데이터를 3개로 나누기 위해 사용한 것입니다.\n",
        "from sklearn.model_selection import train_test_split\n",
        "\n",
        "dftot = pd.read_csv('https://raw.githubusercontent.com/Soyoung-Yoon/bigdata/main/1st_Train.csv')\n",
        "x_train, x_test = train_test_split(dftot, test_size=0.4, stratify=dftot['Reached.on.Time_Y.N'], random_state=0)\n",
        "y_train = x_train[['Reached.on.Time_Y.N']]\n",
        "x_train = x_train.drop(columns='Reached.on.Time_Y.N')\n",
        "y_test = x_test[['Reached.on.Time_Y.N']]   # 이것은 시험에서는 제공되지 않음\n",
        "x_test = x_test.drop(columns='Reached.on.Time_Y.N')\n",
        "\n",
        "x_train.to_csv('x_train.csv', index=False)\n",
        "y_train.to_csv('y_train.csv', index=False)\n",
        "x_test.to_csv('x_test.csv', index=False)\n",
        "y_test.to_csv('y_test.csv', index=False) # 이것은 시험에서는 제공되지 않음"
      ],
      "metadata": {
        "id": "DwzoupwOlIU3"
      },
      "execution_count": null,
      "outputs": []
    },
    {
      "cell_type": "code",
      "source": [
        "x_train.shape, y_train.shape, x_test.shape"
      ],
      "metadata": {
        "colab": {
          "base_uri": "https://localhost:8080/"
        },
        "id": "fruyxQw2nDcr",
        "outputId": "98e338ac-3006-44d8-d7c9-6743b95d8721"
      },
      "execution_count": null,
      "outputs": [
        {
          "output_type": "execute_result",
          "data": {
            "text/plain": [
              "((6599, 11), (6599, 1), (4400, 11))"
            ]
          },
          "metadata": {},
          "execution_count": 143
        }
      ]
    },
    {
      "cell_type": "code",
      "source": [
        "# 여기에 문제를 풀이해 보세요!\n",
        "\n"
      ],
      "metadata": {
        "id": "mNl3dB0VmMxo"
      },
      "execution_count": null,
      "outputs": []
    }
  ]
}